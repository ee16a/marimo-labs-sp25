{
 "cells": [
  {
   "cell_type": "markdown",
   "id": "179cb28c-b42e-41f4-a32a-dd54b3e2d920",
   "metadata": {},
   "source": [
    "# Voice Recognition Lab 2: Extending SVD/PCA Classification with Mel-Scaled STFT Preprocessing\n",
    "\n",
    "### EECS 16A: Designing Information Devices and Systems I, Fall 2024\n",
    "\n",
    "Junha Kim, Jessica Fan, Savit Bhat, Jack Kang (Fall 2024).\n",
    "\n",
    "\n",
    "This lab was heavily inspired by previous EECS16B lab 8, written by Nathaniel Mailoa, Emily Naviasky, et al."
   ]
  },
  {
   "cell_type": "markdown",
   "id": "d9a664f3-1ef4-433f-a72d-31ce25a82571",
   "metadata": {},
   "source": [
    "### Lab 2: Adding Spectral Analysis Processing before SVD/PCA Classification\n",
    "\n",
    "* [Task : Data Preprocessing](#task7)\n",
    "* [Task : Spectral Analysis](#task7)\n",
    "* [Task : Data Aggregation](#task8)\n",
    "* [Task : Adding back SVD/PCA](#task9)\n",
    "* [Task : Clustering, Again](#task10)\n",
    "* [Task : Testing your Classifier](#task11)\n",
    "* [Task : Live Testing](#task12)\n",
    "* [Task : STFT vs Regular PCA](#task13)"
   ]
  },
  {
   "cell_type": "markdown",
   "id": "fab38912-67e4-457a-a546-edcc37a71821",
   "metadata": {},
   "source": [
    "### Overview of Classification Procedure\n",
    "Below is the classification proceduer overview from last week that's been modified to add the spectral analysis steps:\n",
    "1. Collect recordings of 6 different words. This will form our data set. (we already did this!)\n",
    "2. Split the data into 2 sets: training and testing data\n",
    "3. Preprocess the data to align the words.\n",
    "4. (**New Step**) Perform the Short-time Fourier transform (STFT) to extract features, and visualize a spectrogram, on each independent set.\n",
    "5. (**New Step**) Aggregate the 2D spectrogram data into dimensions that are compatible with SVD.\n",
    "6. Perform SVD and evaluate on the training data split.\n",
    "7. Classify each word using clustering in the PCA basis.\n",
    "8. Evaluate performance of your PCA model by running the model on testing data.\n",
    "10. Make sure you (and your GSI) are satisfied with the classifier's accuracy."
   ]
  },
  {
   "cell_type": "code",
   "execution_count": null,
   "id": "967de951-d539-48df-b213-2d353df167da",
   "metadata": {
    "tags": []
   },
   "outputs": [],
   "source": [
    "import sounddevice\n",
    "import pyaudio\n",
    "import wave\n",
    "import numpy as np\n",
    "import csv\n",
    "from tqdm.notebook import trange\n",
    "from IPython import display\n",
    "import time\n",
    "import matplotlib.pyplot as plt\n",
    "import scipy.io\n",
    "import utils\n",
    "from mpl_toolkits.mplot3d import Axes3D\n",
    "from scipy.signal import stft, spectrogram\n",
    "%matplotlib inline\n",
    "\n",
    "cm = ['blue', 'red', 'green', 'orange', 'black', 'purple']"
   ]
  },
  {
   "cell_type": "markdown",
   "id": "5b6731a9-a845-412a-9da3-2935b8e39ff0",
   "metadata": {},
   "source": [
    "<a id='part2'></a>\n",
    "## <span style=\"color:navy\">Part 2: Data Preprocessing</span>"
   ]
  },
  {
   "cell_type": "markdown",
   "id": "28dbef3b-75af-4fe9-9470-a1b5dd432688",
   "metadata": {},
   "source": [
    "We will repeat the data preprocessing step from lab 1 below."
   ]
  },
  {
   "cell_type": "code",
   "execution_count": null,
   "id": "c570fb56-c9a8-4153-8fb2-b9f80ff10d91",
   "metadata": {
    "tags": []
   },
   "outputs": [],
   "source": [
    "# YOUR CODE HERE: Fill in four out of the six words you recorded\n",
    "all_words_arr = ['jack', 'jason', 'jessica', 'principalcomponent', 'entanglement', 'eecs16b']"
   ]
  },
  {
   "cell_type": "markdown",
   "id": "750f93db-abbd-476c-99cf-709d67610891",
   "metadata": {},
   "source": [
    "Let's begin by splitting our data into a training and testing set with a 70/30 split. Run the code below to do so."
   ]
  },
  {
   "cell_type": "code",
   "execution_count": null,
   "id": "447792ad-0b98-4f78-9e79-306044aa47e7",
   "metadata": {
    "tags": []
   },
   "outputs": [],
   "source": [
    "# Load data from csv\n",
    "train_test_split_ratio = 0.7\n",
    "train_dict = {}\n",
    "test_dict = {}\n",
    "\n",
    "# Build the dictionary of train and test samples.\n",
    "for i in range(len(all_words_arr)):\n",
    "    word_raw = utils.read_csv(\"{}.csv\".format(all_words_arr[i]))\n",
    "    word_raw_train, word_raw_test = utils.train_test_split(word_raw, train_test_split_ratio)\n",
    "    train_dict[all_words_arr[i]] = word_raw_train\n",
    "    test_dict[all_words_arr[i]] = word_raw_test\n",
    "\n",
    "# Count the minimum number of samples you took across the six recorded words. These variables might be useful for you!\n",
    "num_samples_train = min(list(map(lambda x : np.shape(x)[0], train_dict.values())))\n",
    "num_samples_test = min(list(map(lambda x : np.shape(x)[0], test_dict.values())))\n",
    "\n",
    "# Crop the number of samples for each word to the minimum number so all words have the same number of samples.\n",
    "for key, raw_word in train_dict.items():\n",
    "    train_dict[key] = raw_word[:num_samples_train,:]\n",
    "\n",
    "for key, raw_word in test_dict.items():\n",
    "    test_dict[key] = raw_word[:num_samples_test,:]\n"
   ]
  },
  {
   "cell_type": "markdown",
   "id": "b9347696-bc27-453d-b46d-8620462fbba6",
   "metadata": {},
   "source": [
    "\n",
    "\n",
    "**<span style=\"color:red\">Important: It's okay if the recordings aren't aligned. The code in the next part will align the data.</span>** "
   ]
  },
  {
   "cell_type": "code",
   "execution_count": null,
   "id": "d1e0eaca-cde1-4d39-954d-6ce805831f40",
   "metadata": {
    "tags": []
   },
   "outputs": [],
   "source": [
    "# Plot all training samples\n",
    "word_number = 0\n",
    "selected_words_arr = all_words_arr\n",
    "for word_raw_train in train_dict.values():\n",
    "    plt.plot(word_raw_train.T)\n",
    "    plt.title('Training sample for \"{}\"'.format(selected_words_arr[word_number]))\n",
    "    word_number += 1\n",
    "    plt.show()"
   ]
  },
  {
   "cell_type": "markdown",
   "id": "73bc5f89-022d-417f-9feb-179dfce6ff6c",
   "metadata": {},
   "source": [
    "### Align Audio Recordings\n",
    "\n",
    "Align the recordings as we did last week. Paste in the `align_recording` function you wrote last week."
   ]
  },
  {
   "cell_type": "code",
   "execution_count": null,
   "id": "33d2f320-b643-43e2-a6a0-8370ed5c0875",
   "metadata": {
    "tags": []
   },
   "outputs": [],
   "source": [
    "def align_recording(recording, length, pre_length, threshold, envelope=False):\n",
    "    \"\"\"\n",
    "    align a single audio samples according to the given parameters.\n",
    "    \n",
    "    Args:\n",
    "        recording (np.ndarray): a single audio sample.\n",
    "        length (int): The length of each aligned audio snippet.\n",
    "        pre_length (int): The number of samples to include before the threshold is first crossed.\n",
    "        threshold (float): Used to find the start of the speech command. The speech command begins where the\n",
    "            magnitude of the audio sample is greater than (threshold * max(samples)).\n",
    "        envelope (bool): if True, use enveloping.\n",
    "    \n",
    "    Returns:\n",
    "        aligned recording.\n",
    "    \"\"\"\n",
    "    \n",
    "    if envelope:\n",
    "        recording = utils.envelope(recording, 5400, 100)\n",
    "    \n",
    "    # Find the threshold\n",
    "    recording_threshold = threshold * np.max(recording)\n",
    "\n",
    "    # TODO: Use recording_threshold, length, and prelength to cut the snippet to the correct length\n",
    "    # we note where the recording magnitude first exceeds recording_threshold.\n",
    "    # then, we leave prelength number of samples before the crossing of the threshold, which is where our recording starts.\n",
    "    # we cut the recording so that it's 'length' samples away from the start of the recording.\n",
    "    \n",
    "    i = pre_length\n",
    "    while recording[i] < recording_threshold: # YOUR CODE HERE\n",
    "        i += 1\n",
    "\n",
    "    snippet_start = min(i - pre_length, len(recording) - length) # YOUR CODE HERE\n",
    "    snippet = recording[snippet_start:snippet_start + length] # YOUR CODE HERE\n",
    "\n",
    "    # TODO: Normalize the recording.\n",
    "    # \"Normalize\" in our case is dividing the signal by the maximum absolute value (different from taking the norm of a vector)\n",
    "    snippet_normalized = snippet = snippet / np.max(np.abs(snippet)) # YOUR CODE HERE\n",
    "    \n",
    "    return snippet_normalized"
   ]
  },
  {
   "cell_type": "code",
   "execution_count": null,
   "id": "d47d1cae-3d71-4623-b361-102851870b6f",
   "metadata": {
    "tags": []
   },
   "outputs": [],
   "source": [
    "def align_data(data, length, pre_length, threshold, envelope=False):\n",
    "    \"\"\"\n",
    "    align all audio samples in dataset. (apply align_recording to all rows of the data matrix)\n",
    "    \n",
    "    Args:\n",
    "        data (np.ndarray): Matrix where each row corresponds to a recording's audio samples.\n",
    "        length (int): The length of each aligned audio snippet.\n",
    "        pre_length (int): The number of samples to include before the threshold is first crossed.\n",
    "        threshold (float): Used to find the start of the speech command. The speech command begins where the\n",
    "            magnitude of the audio sample is greater than (threshold * max(samples)).\n",
    "    \n",
    "    Returns:\n",
    "        Matrix of aligned recordings.\n",
    "    \"\"\"\n",
    "    assert isinstance(data, np.ndarray) and len(data.shape) == 2, \"'data' must be a 2D matrix\"\n",
    "    assert isinstance(length, int) and length > 0, \"'length' of snippet must be an integer greater than 0\"\n",
    "    assert 0 <= threshold <= 1, \"'threshold' must be between 0 and 1\"\n",
    "    snippets = []\n",
    "\n",
    "    # Iterate over the rows in data\n",
    "    for recording in data:\n",
    "        snippets.append(align_recording(recording, length, pre_length, threshold, envelope))\n",
    "\n",
    "    return np.vstack(snippets)"
   ]
  },
  {
   "cell_type": "code",
   "execution_count": null,
   "id": "f1c048e4-623e-4946-897f-763ea0eb2213",
   "metadata": {
    "tags": []
   },
   "outputs": [],
   "source": [
    "def process_data(dict_raw, length, pre_length, threshold, plot=True, envelope=False):\n",
    "    \"\"\"\n",
    "    Process the raw data given parameters and return it. (wrapper function for align_data)\n",
    "    \n",
    "    Args:\n",
    "        dict_raw (np.ndarray): Raw data collected.\n",
    "        data (np.ndarray): Matrix where each row corresponds to a recording's audio samples.\n",
    "        length (int): The length of each aligned audio snippet.\n",
    "        pre_length (int): The number of samples to include before the threshold is first crossed.\n",
    "        threshold (float): Used to find the start of the speech command. The speech command begins where the\n",
    "            magnitude of the audio sample is greater than (threshold * max(samples)).\n",
    "        plot (boolean): Plot the dataset if true.\n",
    "            \n",
    "    Returns:\n",
    "        Processed data dictionary.\n",
    "    \"\"\"\n",
    "    processed_dict = {}\n",
    "    word_number = 0\n",
    "    for key, word_raw in dict_raw.items():\n",
    "        word_processed = align_data(word_raw, length, pre_length, threshold, envelope=envelope)\n",
    "        processed_dict[key] = word_processed\n",
    "        if plot:\n",
    "            plt.plot(word_processed.T)\n",
    "            plt.title('Samples for \"{}\"'.format(selected_words_arr[word_number]))\n",
    "            word_number += 1\n",
    "            plt.show()\n",
    "            \n",
    "    return processed_dict"
   ]
  },
  {
   "cell_type": "markdown",
   "id": "59034f1a-a0bf-4274-ba8e-d1fe0614290f",
   "metadata": {},
   "source": [
    "Align your recordings. **NOTE: we want to set `envelope=False` for spectral analysis!**"
   ]
  },
  {
   "cell_type": "code",
   "execution_count": null,
   "id": "6af01bd2-0df0-4bb4-9416-8177d1c9c51b",
   "metadata": {
    "tags": []
   },
   "outputs": [],
   "source": [
    "# TODO: Edit the parameters to get the best alignment.\n",
    "length = 4000 # YOUR CODE HERE\n",
    "pre_length = 400 # Modify this as necessary\n",
    "threshold = 0.4 # YOUR CODE HERE\n",
    "\n",
    "processed_train_dict = process_data(train_dict, length, pre_length, threshold, envelope=False)"
   ]
  },
  {
   "cell_type": "markdown",
   "id": "5869b73d-aa37-472d-bedf-9743ff6ed5fd",
   "metadata": {},
   "source": [
    "You should now notice the improved alignment for the samples. Can you tell which word is which just by the envelope? If any of your words look too similar to each another, then PCA will likely have a difficult time distinguishing between them, but the STFT version of PCA might circumvent this issue. Why is that?"
   ]
  },
  {
   "cell_type": "markdown",
   "id": "04b95618-1c38-49a9-b7f1-30355fcf05fd",
   "metadata": {},
   "source": [
    "<a id='part3'></a>\n",
    "## <span style=\"color:navy\">Part 3: Spectrogramming (Again)</span>"
   ]
  },
  {
   "cell_type": "markdown",
   "id": "ad31b96f-e436-439e-8e2e-a81c9352fd5d",
   "metadata": {},
   "source": [
    "We've already covered spectrograms in the Shazam Lab - so here's some additional information regarding the STFT, and how it compares to the spectogram.\n",
    "\n",
    "The spectrogram is generated by taking the $$10 * log(|STFT|^2)$$\n",
    "As you will see in the next code block, computing this manually and using scipy's spectrogram function should look the same.\n",
    "\n",
    "The STFT is complex-valued, and will only be real-valued when the input signal is symmetric. Thus, we usually will take the magnitude to make the results easy to interpret. The phase information of the STFT can also be valuable, which is a reason that one might prefer to use the STFT rather than the spectrogram.\n",
    "\n",
    "As it turns out, the input signal being real will imply the STFT being symmetric! If you remember your plots from the Shazam lab being symmetric around the middle, this should make sense, as we worked with real-valued signals. Here, a complex-valued signal means that we won't have symmetry in frequency.\n",
    "\n",
    "There are lots of fun symmetries and proerties that come from the Fourier transform - take EE120 to learn more!"
   ]
  },
  {
   "cell_type": "markdown",
   "id": "db73d769-dcbd-4080-8b19-d77a0c787082",
   "metadata": {},
   "source": [
    "### 3.2: Utilizing STFT to extract features"
   ]
  },
  {
   "cell_type": "markdown",
   "id": "ddd42f83-d230-4232-8de3-af801df70bbc",
   "metadata": {},
   "source": [
    "By conducting the STFT, we are able to capture the unique time-varying frequency footprint of the signal. After collecting these coefficients, we will be able to use PCA, a method of low-rank approximation, to convert the STFT coefficients into a basis that maximizes the amount of variance.\n",
    "\n",
    "Running the STFT first will allow PCA to identify variations in both frequency and temporal details. "
   ]
  },
  {
   "cell_type": "markdown",
   "id": "d2d04b02-1725-4935-a740-ea1e5c3cf9eb",
   "metadata": {},
   "source": [
    "Apply STFT to each recording below."
   ]
  },
  {
   "cell_type": "code",
   "execution_count": null,
   "id": "e7f32489-719d-46c4-8c90-7498141aee9b",
   "metadata": {
    "tags": []
   },
   "outputs": [],
   "source": [
    "# apply stft to each recording. hint: scipy.signal.stft may be useful here.\n",
    "def run_stft(hop_length, sample_rate, values):\n",
    "    \"\"\"\n",
    "    apply STFT to the each recording (row) in the dataset.\n",
    "    \n",
    "    Args:\n",
    "        hop_length (int): number of samples between successive frames\n",
    "        sample_rate (int): sampling rate in Hz\n",
    "    Returns:\n",
    "        f (np.array): frequency index array\n",
    "        t (np.array): time index array\n",
    "        Zxx (np.array): array of 2D arrays (STFT result of each row)\n",
    "    \"\"\"\n",
    "    stft_temp_vals = []\n",
    "    for (word, recordings) in values:\n",
    "        for i in range(recordings.shape[0]):\n",
    "            f, t, Zxx = ... # YOUR CODE HERE\n",
    "            stft_temp_vals.append(...) # YOUR CODE HERE hint: use np.abs() to get real valued spectrogram\n",
    "\n",
    "    # Convert the list to a numpy array\n",
    "    return f, t, np.array(stft_temp_vals) #"
   ]
  },
  {
   "cell_type": "code",
   "execution_count": null,
   "id": "1dfaf087-5ff5-4008-a55a-26143f49d929",
   "metadata": {
    "tags": []
   },
   "outputs": [],
   "source": [
    "# Parameters for STFT\n",
    "hop_length = 256/4  # Number of samples between successive frames\n",
    "sample_rate = 5400  # Sampling rate in Hz (adjust as necessary)\n",
    "\n",
    "f, t, stft_results = run_stft(hop_length, sample_rate, processed_train_dict.items())"
   ]
  },
  {
   "cell_type": "code",
   "execution_count": null,
   "id": "5a6c1e1a-e7d5-4fa6-9c0f-f38179973c5d",
   "metadata": {
    "tags": []
   },
   "outputs": [],
   "source": [
    "# show the first STFT result\n",
    "plt.pcolormesh(t, f, np.abs(stft_results[0]), shading='gouraud')\n",
    "plt.title('STFT Magnitude')\n",
    "plt.ylabel('Frequency [Hz]')\n",
    "plt.xlabel('Time [sec]')\n",
    "plt.show()"
   ]
  },
  {
   "cell_type": "markdown",
   "id": "17cb0ea4-1cc6-46eb-be4f-e76ab6defee3",
   "metadata": {},
   "source": [
    "### 3.3 Mel-scaled STFT\n",
    "\n",
    "The Mel-scaled FFT takes advantage of knowledge of the human auditory system. Rather than representing frequencies linearly, it uses this prior knowledge to compress higher frequencies and expand lower frequencies, similar to our ears. In other words, it reforms the frequency scaling to be more similar to the way humans perceive pitch. This will therefore extract features that are more relevant to human auditory perception, and classification is expected to more closely match our ears' classification."
   ]
  },
  {
   "cell_type": "code",
   "execution_count": null,
   "id": "1302976f-c101-4622-a24e-bcce9a533ae0",
   "metadata": {},
   "outputs": [],
   "source": [
    "# Create Mel Filter Bank\n",
    "def hz_to_mel(hz):\n",
    "    return 2595 * np.log10(1 + hz / 700)\n",
    "\n",
    "def mel_to_hz(mel):\n",
    "    return 700 * (10**(mel / 2595) - 1)\n",
    "\n",
    "def mel_filter_bank(sample_rate, n_fft, n_mels):\n",
    "    mel_min = 0\n",
    "    mel_max = hz_to_mel(sample_rate / 2)\n",
    "    mel_points = np.linspace(mel_min, mel_max, n_mels + 2)\n",
    "    hz_points = mel_to_hz(mel_points)\n",
    "\n",
    "    # Convert Hz points to FFT bin numbers\n",
    "    bin_points = np.floor((n_fft + 1) * hz_points / sample_rate).astype(int)\n",
    "\n",
    "    # Create the filter bank matrix\n",
    "    filters = np.zeros((n_mels, n_fft // 2 + 1))\n",
    "\n",
    "    for i in range(1, len(bin_points) - 1):\n",
    "        left = bin_points[i - 1]\n",
    "        center = bin_points[i]\n",
    "        right = bin_points[i + 1]\n",
    "\n",
    "        for j in range(left, center):\n",
    "            filters[i - 1, j] = (j - left) / (center - left)\n",
    "        for j in range(center, right):\n",
    "            filters[i - 1, j] = (right - j) / (right - center)\n",
    "\n",
    "    return filters\n",
    "\n",
    "def apply_mel_filter_helper(Zxx, mel_filter):\n",
    "    power_spectrogram = np.abs(Zxx)**2\n",
    "    mel_spectrogram = np.dot(mel_filter, power_spectrogram)\n",
    "    log_mel_spectrogram = power_to_db(mel_spectrogram)\n",
    "    return log_mel_spectrogram\n",
    "\n",
    "def apply_mel_filter(Zxxs, mel_filter):\n",
    "    mel_spec_lst = []\n",
    "    for val in Zxxs:\n",
    "        log_mel_spectrogram = apply_mel_filter_helper(val, mel_filter)\n",
    "        mel_spec_lst.append(log_mel_spectrogram)\n",
    "    return mel_spec_lst\n",
    "\n",
    "def power_to_db(S, ref=1.0, amin=1e-10):\n",
    "    S_db = 10.0 * np.log10(np.maximum(amin, S / ref))\n",
    "    return S_db\n",
    "\n",
    "def mel_frequencies(n_mels, sample_rate, n_fft):\n",
    "    mel_min = 0\n",
    "    mel_max = hz_to_mel(sample_rate / 2)\n",
    "    mel_points = np.linspace(mel_min, mel_max, n_mels + 2)  # Add 2 for the edges\n",
    "    hz_points = mel_to_hz(mel_points)  # Convert mel points to hz\n",
    "    return hz_points[1:-1]  # We ignore the first and last points (0 Hz and Nyquist)\n",
    "\n",
    "# should we have students implement some of this?\n",
    "def mel_stft(sample_rate, n_fft, n_mels, vals):\n",
    "    mel_filter = mel_filter_bank(sample_rate, n_fft, n_mels)\n",
    "    f, t, stft_results_mel = run_stft(hop_length, sample_rate, vals)\n",
    "    mel_stft_results = np.array(apply_mel_filter(stft_results_mel, mel_filter))\n",
    "    mel_freqs = mel_frequencies(n_mels, sample_rate, n_fft)\n",
    "    return mel_freqs, np.abs(mel_stft_results)"
   ]
  },
  {
   "cell_type": "code",
   "execution_count": null,
   "id": "029c550d-51b0-4506-8ec5-116e2fde5f23",
   "metadata": {},
   "outputs": [],
   "source": [
    "# Define further parameters \n",
    "n_mels = 40  # Number of Mel bands\n",
    "n_fft = 256  # Length of the FFT window\n",
    "\n",
    "# hint: what function above may be useful here?\n",
    "mel_freqs, mel_stft_results = # YOUR CODE HERE"
   ]
  },
  {
   "cell_type": "code",
   "execution_count": null,
   "id": "1a6a6ba1-ff86-42c8-92b4-2c86c0339a01",
   "metadata": {},
   "outputs": [],
   "source": [
    "plt.pcolormesh(t, mel_freqs, mel_stft_results[0], shading='gouraud')\n",
    "plt.title('Mel STFT Log Magnitude')\n",
    "plt.ylabel('Frequency [Hz]')\n",
    "plt.xlabel('Time [sec]')\n",
    "plt.show()"
   ]
  },
  {
   "cell_type": "markdown",
   "id": "4123840c-63e4-41f4-aec2-fff19f011102",
   "metadata": {},
   "source": [
    "<a id='part4'></a>\n",
    "## <span style=\"color:navy\">Part 4: Data Reshaping</span>\n",
    "\n",
    "\n",
    "Currently, our STFT matrices (both regular and Mel-scaled) are 2d (time and frequency). This doesn't lend itself well to PCA, which requires a single vector per measurement. \n",
    "\n",
    "Therefore, we must flatten our array to a 1d format. There are many ways to accomplish this--we will be exploring and attempting some of the options below."
   ]
  },
  {
   "cell_type": "markdown",
   "id": "fbc08e2b-7689-445a-9105-34b3d6ceead8",
   "metadata": {},
   "source": [
    "**Sanity check**: What do each axis in our stft_results array represent?"
   ]
  },
  {
   "cell_type": "code",
   "execution_count": null,
   "id": "22db2abc-1837-4f73-a815-c2dec7f65760",
   "metadata": {},
   "outputs": [],
   "source": [
    "stft_results.shape"
   ]
  },
  {
   "cell_type": "code",
   "execution_count": null,
   "id": "b6db7b88-4208-44b3-bd57-c0c869102e19",
   "metadata": {},
   "outputs": [],
   "source": [
    "mel_stft_results.shape"
   ]
  },
  {
   "attachments": {
    "Screenshot%202024-08-15%20at%207.57.01%20PM.png": {
     "image/png": "[encoded data removed]"
    }
   },
   "cell_type": "markdown",
   "id": "c763941b-1a65-495a-bbaa-2b2636aaaafe",
   "metadata": {},
   "source": [
    "### 4.1: Flattening\n",
    "\n",
    "In flattening, we are simply taking all the elements from the matrix and place them into a single sequence, thereby having no data loss. Keeping in mind that the two dimensions are time and frequency, we might choose to flatten row-wise, or column-wise. We may even decide to use a different approach, zig-zagging through the matrix to flatten it. For now, we will use row-wise flattening, but we encourage you to experiment with approaches in the later part of the lab.\n",
    "\n",
    "![Screenshot%202024-08-15%20at%207.57.01%20PM.png](attachment:Screenshot%202024-08-15%20at%207.57.01%20PM.png)"
   ]
  },
  {
   "cell_type": "code",
   "execution_count": null,
   "id": "f0329f2c-4f32-4af0-91bd-954bcff683f5",
   "metadata": {},
   "outputs": [],
   "source": [
    "# TODO: flatten the matrix row-wise. hint: np.flatten() or np.reshape() may be useful here.\n",
    "def apply_flattening(vals):\n",
    "    return ... # YOUR CODE HERE"
   ]
  },
  {
   "attachments": {
    "Screenshot%202024-08-15%20at%207.57.31%20PM.png": {
     "image/png": "[encoded data removed]"
    }
   },
   "cell_type": "markdown",
   "id": "6bcf4670-12dd-4670-a3db-8a6d79959c36",
   "metadata": {},
   "source": [
    "### 4.2: Aggregation of features over frames\n",
    "\n",
    "Another method to convert our matrix to a vector is to use mean and variances over frequency bins for each time frame. This does lose some information, but very specific frequency information is likely redundant for a simple voice classification scheme. Generally, the memory tradeoff for this feature is worth it.\n",
    "\n",
    "![Screenshot%202024-08-15%20at%207.57.31%20PM.png](attachment:Screenshot%202024-08-15%20at%207.57.31%20PM.png)"
   ]
  },
  {
   "cell_type": "code",
   "execution_count": null,
   "id": "f220f505-65c8-4c3a-a521-4ac85167c994",
   "metadata": {},
   "outputs": [],
   "source": [
    "# TODO: Compute mean and variance over frequency bins for each time frame\n",
    "# hint: np.mean and np.var may be helpful.\n",
    "def apply_aggregation(vals):\n",
    "    mean_features, variance_features = ... # YOUR CODE HERE\n",
    "\n",
    "    # Stack features to get a combined feature set\n",
    "    return np.concatenate((mean_features, variance_features), axis=1)"
   ]
  },
  {
   "cell_type": "markdown",
   "id": "2b759862-2a46-413b-9295-434fbc159127",
   "metadata": {},
   "source": [
    "### 4.3 Demeaning"
   ]
  },
  {
   "cell_type": "markdown",
   "id": "4818f94b-e633-45bf-900d-daaff863c4d6",
   "metadata": {},
   "source": [
    "We have two methods of spectrogram generation (Mel-scaled STFT and regular STFT) and two methods of data aggregation (regular flattening vs mean & variance aggregation). That gives us 4 possible combinations, so let's generate a processed dataset for all 4 cases so we can compare!"
   ]
  },
  {
   "cell_type": "code",
   "execution_count": null,
   "id": "19312438-b40a-4794-a0b4-e839d1577226",
   "metadata": {},
   "outputs": [],
   "source": [
    "# TODO: mel scaled STFT + flattening\n",
    "processed_A_mel_flattening = ... # YOUR CODE HERE\n",
    "print(f\"processed_A_mel_flattening shape: {processed_A_mel_flattening.shape}\")\n",
    "\n",
    "# TODO: regular STFT + flattening\n",
    "processed_A_stft_flattening = ... # YOUR CODE HERE\n",
    "print(f\"processed_A_stft_flattening shape: {processed_A_stft_flattening.shape}\")\n",
    "\n",
    "# TODO: mel scaled STFT + aggregation\n",
    "processed_A_mel_aggregated = ... # YOUR CODE HERE\n",
    "print(f\"processed_A_mel_aggregated shape: {processed_A_mel_aggregated.shape}\")\n",
    "\n",
    "# TODO: regular STFT + aggregation\n",
    "processed_A_stft_aggregated = ... # YOUR CODE HERE\n",
    "print(f\"processed_A_stft_aggregated shape: {processed_A_stft_aggregated.shape}\")"
   ]
  },
  {
   "cell_type": "markdown",
   "id": "f2d6d775-e24c-432e-8f6d-afdd57fdcf39",
   "metadata": {},
   "source": [
    "<a id='part5'></a>\n",
    "## <span style=\"color:navy\">Part 5: PCA via SVD</span>"
   ]
  },
  {
   "cell_type": "markdown",
   "id": "b6d22d30-9414-407b-922a-5aa9f2a923af",
   "metadata": {},
   "source": [
    "Now we will be repeating our PCA steps from last week's lab. Refer to the code you've written to complete this section."
   ]
  },
  {
   "cell_type": "markdown",
   "id": "128a200a-3c28-4dc4-8ad8-81d9c7660aba",
   "metadata": {},
   "source": [
    "As a reminder, the first step of PCA is to center the data's mean at zero. Demean the data and store it in `demeaned_A`. Choose which processed_A to use, and keep it consistent up to the classification step. Revisit this to try different configurations."
   ]
  },
  {
   "cell_type": "code",
   "execution_count": null,
   "id": "247e9a6d-bd46-4e58-bd0b-af3bb0ab0765",
   "metadata": {},
   "outputs": [],
   "source": [
    "# choose which processed_A to use here\n",
    "processed_A = ... # YOUR CODE HERE\n",
    "# Zero-mean the matrix A\n",
    "mean_vec = np.mean(processed_A, axis=0) # YOUR CODE HERE\n",
    "demeaned_A = processed_A - mean_vec # YOUR CODE HERE"
   ]
  },
  {
   "cell_type": "markdown",
   "id": "f9e45f0d-e28e-40ba-9e00-aabef224c28a",
   "metadata": {},
   "source": [
    "Take the SVD of the demeaned_A."
   ]
  },
  {
   "cell_type": "code",
   "execution_count": null,
   "id": "ab4da03a-3e36-437f-bf4b-5a6025ca936e",
   "metadata": {},
   "outputs": [],
   "source": [
    "# Take the SVD of matrix demeaned_A\n",
    "U, S, Vt = np.linalg.svd(demeaned_A) # YOUR CODE HERE"
   ]
  },
  {
   "cell_type": "markdown",
   "id": "1809a249-bd77-4d98-a62f-6b672a87f6dc",
   "metadata": {},
   "source": [
    "Visually inspect your sigma values. They should tell you how many principal components you need."
   ]
  },
  {
   "cell_type": "code",
   "execution_count": null,
   "id": "1ab62384-fa25-4163-961c-92f1f23220d2",
   "metadata": {},
   "outputs": [],
   "source": [
    "# Plot out the sigma values (Hint: Use plt.stem for a stem plot)\n",
    "# YOUR CODE HERE\n",
    "plt.stem(S)"
   ]
  },
  {
   "cell_type": "markdown",
   "id": "71b9f04f-9491-4bd3-8b44-bbb17b91225f",
   "metadata": {},
   "source": [
    "### 5.3 Choosing a Basis using Principal Components"
   ]
  },
  {
   "cell_type": "markdown",
   "id": "b07aa560-e8c6-4e17-b4f5-c3543be7b9d1",
   "metadata": {},
   "source": [
    "Set the `new_basis` argument to be a basis of the first 3 principal components. (Hint: Of the three outputs from the SVD function call, which one will contain the principal components onto which we want to project our data points? Do we need to transpose it? **The lab slide will help!**)\n",
    "\n",
    "When you plot `new_basis` you should see a number of line plots equal to the number of principal components you've chosen (3)."
   ]
  },
  {
   "cell_type": "code",
   "execution_count": null,
   "id": "cfae5a50-2f32-48a5-b985-a94d1194cbd5",
   "metadata": {},
   "outputs": [],
   "source": [
    "# Plot the principal component(s)\n",
    "# YOUR CODE HERE\n",
    "new_basis = Vt[0:3].T\n",
    "plt.plot(new_basis)\n",
    "plt.show()"
   ]
  },
  {
   "cell_type": "markdown",
   "id": "609eeec6-fe5a-422e-8f79-a2af98e7b519",
   "metadata": {},
   "source": [
    "Now project the data in the matrix A onto the new basis and plot it. For three principal components, in addition to the 3D plot, we also provided 2D plots which correspond to the top and side views of the 3D plot. Do you see clustering? Do you think you can separate the data easily?"
   ]
  },
  {
   "cell_type": "code",
   "execution_count": null,
   "id": "aee49403-be11-477a-91a6-7e8b96ad4d44",
   "metadata": {
    "scrolled": true
   },
   "outputs": [],
   "source": [
    "# Project the data onto the new basis\n",
    "# YOUR CODE HERE. Hint: np.dot() may help, as well as printing the dimensions.\n",
    "proj = np.dot(demeaned_A, new_basis)\n",
    "\n",
    "if new_basis.shape[1] == 3:\n",
    "    fig=plt.figure(figsize=(10,5))\n",
    "    ax = fig.add_subplot(111, projection='3d')\n",
    "    for i in range(len(all_words_arr)):\n",
    "        Axes3D.scatter(ax, *proj[i*num_samples_train:num_samples_train*(i+1)].T, c=cm[i], marker = 'o', s=20)\n",
    "    plt.legend(all_words_arr,loc='center left', bbox_to_anchor=(1.07, 0.5))\n",
    "    \n",
    "    fig, axs = plt.subplots(1, 3, figsize=(15,5))\n",
    "    for i in range(len(all_words_arr)):\n",
    "        axs[0].scatter(proj[i*num_samples_train:num_samples_train*(i+1),0], proj[i*num_samples_train:num_samples_train*(i+1),1], c=cm[i], edgecolor='none')\n",
    "        axs[1].scatter(proj[i*num_samples_train:num_samples_train*(i+1),0], proj[i*num_samples_train:num_samples_train*(i+1),2], c=cm[i], edgecolor='none')\n",
    "        axs[2].scatter(proj[i*num_samples_train:num_samples_train*(i+1),1], proj[i*num_samples_train:num_samples_train*(i+1),2], c=cm[i], edgecolor='none')\n",
    "    axs[0].set_title(\"View 1\")\n",
    "    axs[1].set_title(\"View 2\")\n",
    "    axs[2].set_title(\"View 3\")\n",
    "    plt.legend(all_words_arr,loc='center left', bbox_to_anchor=(1, 0.5))\n",
    "    plt.show()\n",
    "    \n",
    "elif new_basis.shape[1] == 2:\n",
    "    fig=plt.figure(figsize=(10,5))\n",
    "    for i in range(len(all_words_arr)):\n",
    "        plt.scatter(proj[i*num_samples_train:num_samples_train*(i+1),0], proj[i*num_samples_train:num_samples_train*(i+1),1], edgecolor='none')\n",
    "\n",
    "    plt.legend(all_words_arr,loc='center left', bbox_to_anchor=(1, 0.5))\n",
    "    plt.show()"
   ]
  },
  {
   "cell_type": "markdown",
   "id": "28130a94-a06f-404c-9b70-ee98ec7eceb6",
   "metadata": {},
   "source": [
    "<a id='part6'></a>\n",
    "## <span style=\"color:navy\">Part 6: Clustering Data Points</span>"
   ]
  },
  {
   "cell_type": "markdown",
   "id": "de74ea46-c70b-4ff6-9e07-6ce91c3ba5cd",
   "metadata": {},
   "source": [
    "#### Implement `find_centroids`, which finds the center of each cluster."
   ]
  },
  {
   "cell_type": "code",
   "execution_count": null,
   "id": "288215c6-0696-4c0d-9a7b-c292e4b4f87c",
   "metadata": {},
   "outputs": [],
   "source": [
    "def find_centroid(clustered_data):\n",
    "    \"\"\"Find the center of each cluster by taking the mean of all points in a cluster.\n",
    "    It may be helpful to recall how you constructed the data matrix (e.g. which rows correspond to which word)\n",
    "    \n",
    "    Parameters:\n",
    "        clustered_data (np.array): the data already projected onto the new basis (for one word)\n",
    "        \n",
    "    Returns: \n",
    "        centroids (list): The centroids of the clusters\n",
    "    \"\"\"\n",
    "    \n",
    "    return np.mean(clustered_data, axis=0) # YOUR CODE HERE"
   ]
  },
  {
   "cell_type": "markdown",
   "id": "e981a3a5-dc73-46d5-8ffd-dfafc98343fb",
   "metadata": {},
   "source": [
    "Fill in the code below to find the centroids of each cluster."
   ]
  },
  {
   "cell_type": "code",
   "execution_count": null,
   "id": "2aaad6e5-18dd-4756-80ce-127f5554afb6",
   "metadata": {},
   "outputs": [],
   "source": [
    "selected_words_arr = all_words_arr # YOUR CODE HERE: Fill in with the 4 selected words\n",
    "selected_test_dict = {k: test_dict[k] for k in selected_words_arr}"
   ]
  },
  {
   "cell_type": "code",
   "execution_count": null,
   "id": "b326b651-cd5e-4814-add4-7317dfd29465",
   "metadata": {},
   "outputs": [],
   "source": [
    "# Determine the centroids of each cluster\n",
    "centroids = [] # YOUR CODE HERE\n",
    "for w in selected_words_arr: # YOUR CODE HERE\n",
    "    word_num = all_words_arr.index(w)\n",
    "    i = word_num*num_samples_train # YOUR CODE HERE\n",
    "    centroid = find_centroid(proj[i:(word_num + 1)* num_samples_train]) # YOUR CODE HERE\n",
    "    centroids.append(centroid) # YOUR CODE HERE\n",
    "\n",
    "print(centroids)"
   ]
  },
  {
   "cell_type": "markdown",
   "id": "9a8ba5e1-484b-4248-964a-b85699f1eb6a",
   "metadata": {},
   "source": [
    "Run the cell below to plot your centroids along with your projected data."
   ]
  },
  {
   "cell_type": "code",
   "execution_count": null,
   "id": "d4f434cc-37d9-4e49-b6ad-2f1e9c344098",
   "metadata": {},
   "outputs": [],
   "source": [
    "centroid_list = np.vstack(centroids)\n",
    "colors = cm[:(len(centroids))]\n",
    "\n",
    "for i, centroid in enumerate(centroid_list):\n",
    "    print('Centroid {} is at: {}'.format(i, str(centroid)))\n",
    "\n",
    "if new_basis.shape[1] == 3:\n",
    "    fig=plt.figure(figsize=(10,7))\n",
    "    ax = fig.add_subplot(111, projection='3d')\n",
    "    for i in range(len(selected_words_arr)):\n",
    "        Axes3D.scatter(ax, *proj[i*num_samples_train:num_samples_train*(i+1)].T, c=cm[i], marker = 'o', s=20)\n",
    "    plt.legend(selected_words_arr, loc='center left', bbox_to_anchor=(1.07, 0.5))\n",
    "    for i in range(len(selected_words_arr)):\n",
    "        Axes3D.scatter(ax, *np.array([centroids[i]]).T, c=cm[i], marker = '*', s=300)\n",
    "    plt.title(\"Training Data\")\n",
    "    \n",
    "    fig, axs = plt.subplots(1, 3, figsize=(15,5))\n",
    "    for i in range(len(selected_words_arr)):\n",
    "        axs[0].scatter(proj[i*num_samples_train:num_samples_train*(i+1),0], proj[i*num_samples_train:num_samples_train*(i+1),1], c=cm[i], edgecolor='none')\n",
    "        axs[1].scatter(proj[i*num_samples_train:num_samples_train*(i+1),0], proj[i*num_samples_train:num_samples_train*(i+1),2], c=cm[i], edgecolor='none')\n",
    "        axs[2].scatter(proj[i*num_samples_train:num_samples_train*(i+1),1], proj[i*num_samples_train:num_samples_train*(i+1),2], c=cm[i], edgecolor='none')\n",
    "    axs[0].set_title(\"View 1\")\n",
    "    axs[1].set_title(\"View 2\")\n",
    "    axs[2].set_title(\"View 3\")\n",
    "    plt.legend(selected_words_arr, loc='center left', bbox_to_anchor=(1, 0.5))\n",
    "    axs[0].scatter(centroid_list[:,0], centroid_list[:,1], c=colors, marker='*', s=300)\n",
    "    axs[1].scatter(centroid_list[:,0], centroid_list[:,2], c=colors, marker='*', s=300)\n",
    "    axs[2].scatter(centroid_list[:,1], centroid_list[:,2], c=colors, marker='*', s=300)\n",
    "    plt.show()\n",
    "\n",
    "elif new_basis.shape[1] == 2:\n",
    "    fig=plt.figure(figsize=(10,7))\n",
    "    for i in range(len(selected_words_arr)):\n",
    "        plt.scatter(proj[i*num_samples_train:num_samples_train*(i+1),0], proj[i*num_samples_train:num_samples_train*(i+1),1], c=colors[i], edgecolor='none')\n",
    "\n",
    "    plt.scatter(centroid_list[:,0], centroid_list[:,1], c=colors, marker='*', s=300)\n",
    "    plt.legend(selected_words_arr,loc='center left', bbox_to_anchor=(1, 0.5))\n",
    "    plt.title(\"Training Data\")\n",
    "    plt.show()"
   ]
  },
  {
   "cell_type": "markdown",
   "id": "925de29f-a5e4-4f3e-a4c3-6c34745962af",
   "metadata": {},
   "source": [
    "<a id='part7'></a>\n",
    "## <span style=\"color:navy\">Part 7: Testing your Classifier</span>"
   ]
  },
  {
   "cell_type": "markdown",
   "id": "fa3c7197-8b3e-4ca4-8534-bef9a9a18556",
   "metadata": {},
   "source": [
    "Great! Now that we have the means (centroid) for each word, let's evaluate performance. Recall that we will classify each data point according to the centroid with the least Euclidian distance to it.\n",
    "\n",
    "Before we perform classification, we need to do the same preprocessing to the test data that we did to the training data (enveloping, demeaning, projecting onto the PCA basis). You have already written most of the code for this part. However, note the difference in variable names as we are now working with test data."
   ]
  },
  {
   "cell_type": "markdown",
   "id": "dd3f67b2-13d6-4dab-8081-7e74f73eb83f",
   "metadata": {},
   "source": [
    "First let's look at what our raw test data looks like."
   ]
  },
  {
   "cell_type": "markdown",
   "id": "84e19d6c-ded9-44c9-ad92-19bf2b0f0b71",
   "metadata": {},
   "source": [
    "### 7.1: Test Data Preprocessing"
   ]
  },
  {
   "cell_type": "code",
   "execution_count": null,
   "id": "2c8cfb35-74d7-4f84-b1c6-45d92c813d4f",
   "metadata": {},
   "outputs": [],
   "source": [
    "# Plot all test samples\n",
    "word_number = 0\n",
    "for word_raw_test in selected_test_dict.values():\n",
    "    plt.plot(word_raw_test.T)\n",
    "    plt.title('Test sample for \"{}\"'.format(selected_words_arr[word_number]))\n",
    "    word_number += 1\n",
    "    plt.show()"
   ]
  },
  {
   "cell_type": "markdown",
   "id": "a10244b6-aacf-49e9-8610-5528c5728a99",
   "metadata": {},
   "source": [
    "Perform enveloping and trimming of our test data."
   ]
  },
  {
   "cell_type": "code",
   "execution_count": null,
   "id": "cc3491b3-b81f-49b9-b6b0-1167712227b9",
   "metadata": {},
   "outputs": [],
   "source": [
    "processed_test_dict = process_data(selected_test_dict, length, pre_length, threshold, envelope=False)"
   ]
  },
  {
   "cell_type": "markdown",
   "id": "3aac1abd-5938-4f4e-8e72-299259d0620b",
   "metadata": {},
   "source": [
    "Construct the PCA matrix. Refer to the code you wrote above for the training set!"
   ]
  },
  {
   "cell_type": "code",
   "execution_count": null,
   "id": "92dc7714-7cf6-4110-9647-9335b5c97ec9",
   "metadata": {},
   "outputs": [],
   "source": [
    "..., test_results = ... # YOUR CODE HERE hint: depending on what variant you choose, there may be multiple return values.\n",
    "features_test = ... # YOUR CODE HERE hint: apply aggregation or flattening to your test_results"
   ]
  },
  {
   "cell_type": "code",
   "execution_count": null,
   "id": "9b3a632f-81f0-4716-a6fd-89e0e3df1d57",
   "metadata": {},
   "outputs": [],
   "source": [
    "print(test_results.shape)"
   ]
  },
  {
   "cell_type": "code",
   "execution_count": null,
   "id": "29327a56-8a77-46e8-be54-373923762ca7",
   "metadata": {},
   "outputs": [],
   "source": [
    "processed_A_test = np.vstack(features_test)"
   ]
  },
  {
   "cell_type": "markdown",
   "id": "34bc0d63-9fc1-4756-8ba2-306a900ec78a",
   "metadata": {},
   "source": [
    "\n",
    "As you may recall, we precomputed $ \\bar{x}_{\\text{proj}} \\in \\mathbb{R}^3$ and stored that in lieu of $\\bar{x}$.\n",
    "\n",
    "Compute $ \\bar{x}_{\\text{proj}} $ using the **same mean vector** as the one computed with the training data."
   ]
  },
  {
   "cell_type": "code",
   "execution_count": null,
   "id": "cd8350d0-e152-4492-96aa-d07d83a79c58",
   "metadata": {},
   "outputs": [],
   "source": [
    "# YOUR CODE HERE\n",
    "projected_mean_vec = np.dot(mean_vec, new_basis)\n",
    "print(new_basis.shape)\n",
    "print(mean_vec)"
   ]
  },
  {
   "cell_type": "markdown",
   "id": "7cc839a6-edda-4128-96ef-2f09d109c91e",
   "metadata": {},
   "source": [
    "Project the test data onto the **same PCA basis** as the one computed with the training data."
   ]
  },
  {
   "cell_type": "code",
   "execution_count": null,
   "id": "f088d965-de8e-46e3-8bbe-309c6a4cbc2f",
   "metadata": {},
   "outputs": [],
   "source": [
    "# YOUR CODE HERE\n",
    "projected_A_test = np.dot(processed_A_test, new_basis)"
   ]
  },
  {
   "cell_type": "markdown",
   "id": "c55f8234-3441-4df2-a2e8-4197d2c49056",
   "metadata": {},
   "source": [
    "Zero-mean the projected test data using the **`projected_mean_vec`**."
   ]
  },
  {
   "cell_type": "code",
   "execution_count": null,
   "id": "7fcb9378-c811-479b-a17a-28e11b377f86",
   "metadata": {},
   "outputs": [],
   "source": [
    "# YOUR CODE HERE\n",
    "proj = projected_A_test - projected_mean_vec\n",
    "print(projected_mean_vec.shape)"
   ]
  },
  {
   "cell_type": "markdown",
   "id": "95a7d0f3-e5d7-49c1-b6ce-2538e1b6af43",
   "metadata": {},
   "source": [
    "Plot the projections to see how well your test data clusters in this new basis. This will give you an idea of test classification accuracy."
   ]
  },
  {
   "cell_type": "code",
   "execution_count": null,
   "id": "9c13fa98-95c1-4628-9b75-d7a4a2c239f9",
   "metadata": {},
   "outputs": [],
   "source": [
    "if new_basis.shape[1] == 3:\n",
    "    fig=plt.figure(figsize=(10,7))\n",
    "    ax = fig.add_subplot(111, projection='3d')\n",
    "    for i in range(len(selected_words_arr)):\n",
    "        Axes3D.scatter(ax, *proj[i*num_samples_test:num_samples_test*(i+1)].T, c=cm[i], marker = 'o', s=20)\n",
    "    plt.legend(selected_words_arr,loc='center left', bbox_to_anchor=(1.07, 0.5))\n",
    "    plt.title(\"Test Data\")\n",
    "    for i in range(len(selected_words_arr)):\n",
    "        Axes3D.scatter(ax, *np.array([centroids[i]]).T, c=cm[i], marker = '*', s=300)\n",
    "    \n",
    "    fig, axs = plt.subplots(1, 3, figsize=(15,5))\n",
    "    for i in range(len(selected_words_arr)):\n",
    "        axs[0].scatter(proj[i*num_samples_test:num_samples_test*(i+1),0], proj[i*num_samples_test:num_samples_test*(i+1),1], c=cm[i], edgecolor='none')\n",
    "        axs[1].scatter(proj[i*num_samples_test:num_samples_test*(i+1),0], proj[i*num_samples_test:num_samples_test*(i+1),2], c=cm[i], edgecolor='none')\n",
    "        axs[2].scatter(proj[i*num_samples_test:num_samples_test*(i+1),1], proj[i*num_samples_test:num_samples_test*(i+1),2], c=cm[i], edgecolor='none')\n",
    "    axs[0].set_title(\"View 1\")\n",
    "    axs[1].set_title(\"View 2\")\n",
    "    axs[2].set_title(\"View 3\")\n",
    "    plt.legend(selected_words_arr, loc='center left', bbox_to_anchor=(1, 0.5))\n",
    "    axs[0].scatter(centroid_list[:,0], centroid_list[:,1], c=colors, marker='*', s=300)\n",
    "    axs[1].scatter(centroid_list[:,0], centroid_list[:,2], c=colors, marker='*', s=300)\n",
    "    axs[2].scatter(centroid_list[:,1], centroid_list[:,2], c=colors, marker='*', s=300)\n",
    "    fig.show()\n",
    "\n",
    "elif new_basis.shape[1] == 2:\n",
    "    fig=plt.figure(figsize=(10,7))\n",
    "    for i in range(len(selected_words_arr)):\n",
    "        plt.scatter(proj[i*num_samples_test:num_samples_test*(i+1),0], proj[i*num_samples_test:num_samples_test*(i+1),1], c=colors[i], edgecolor='none')\n",
    "\n",
    "    plt.scatter(centroid_list[:,0], centroid_list[:,1], c=colors, marker='*', s=300)\n",
    "    plt.legend(selected_words_arr,loc='center left', bbox_to_anchor=(1, 0.5))\n",
    "    plt.title(\"Test Data\")\n",
    "    plt.show()"
   ]
  },
  {
   "cell_type": "markdown",
   "id": "d05f933e-1998-42d1-8777-0e329b88b0d2",
   "metadata": {},
   "source": [
    "Now that we have some idea of how our test data looks in our PCA basis, let's see how our data actually performs. Implement the `classify` function which takes in a data point after enveloping is applied and returns which word number it belongs to depending on the closed centroid in Euclidian distance."
   ]
  },
  {
   "cell_type": "code",
   "execution_count": null,
   "id": "f4d0d5ec-b960-4e9c-9f74-b98fcea4d784",
   "metadata": {},
   "outputs": [],
   "source": [
    "def classify(data_point, new_basis, projected_mean_vec, centroids):\n",
    "    \"\"\"Classifies a new voice recording into a word.\n",
    "    \n",
    "    Args:\n",
    "        data_point: new data point vector before demeaning and projection\n",
    "        new_basis: the new processed basis to project on\n",
    "        projected_mean_vec: the same projected_mean_vec as before\n",
    "    Returns:\n",
    "        Word number (should be in {1, 2, 3, 4} -> you might need to offset your indexing!)\n",
    "    Hint:\n",
    "        Remember to use 'projected_mean_vec'!\n",
    "        np.argmin(), and np.linalg.norm() may also help!\n",
    "    \"\"\"\n",
    "    # TODO: classify the demeaned data point by comparing its distance to the centroids\n",
    "    # YOUR CODE HERE\n",
    "    projected_data_point = np.dot(data_point, new_basis)\n",
    "    demeaned = projected_data_point - projected_mean_vec\n",
    "    print([np.linalg.norm(demeaned - c) for c in centroids])\n",
    "    return all_words_arr[np.argmin([np.linalg.norm(demeaned - c) for c in centroids])]"
   ]
  },
  {
   "cell_type": "markdown",
   "id": "d03b56ff-a644-481d-8ae1-63f646c6f9c1",
   "metadata": {},
   "source": [
    "Try out the classification function below."
   ]
  },
  {
   "cell_type": "code",
   "execution_count": null,
   "id": "b62c63bf-f358-4279-b405-266235a2c44d",
   "metadata": {
    "scrolled": true
   },
   "outputs": [],
   "source": [
    "# Try out the classification function\n",
    "print(classify(processed_A_test[0,:], new_basis, projected_mean_vec, centroids)) # Modify the row index of processed_A_test to use other vectors"
   ]
  },
  {
   "cell_type": "markdown",
   "id": "9f36c8c1-8ad3-4465-b108-382564ab6f45",
   "metadata": {},
   "source": [
    "**Our goal is 80% accuracy for each word.** Apply the `classify` function to each sample and compute the accuracy for each word. If you do not meet 80% accuracy for each word, try to find different combinations of words/parameters that result in more distinct clusters in the plots of the projected data. "
   ]
  },
  {
   "cell_type": "code",
   "execution_count": null,
   "id": "a673991a-a95b-4c77-8e1e-37d0353f3da2",
   "metadata": {},
   "outputs": [],
   "source": [
    "processed_A_test.shape"
   ]
  },
  {
   "cell_type": "code",
   "execution_count": null,
   "id": "2166797d-9305-4fba-8c7c-9687330d6d88",
   "metadata": {},
   "outputs": [],
   "source": [
    "# Try to classify the whole A matrix\n",
    "correct_counts = np.zeros(len(all_words_arr))\n",
    "\n",
    "for (row_num, data) in enumerate(processed_A_test):\n",
    "    word_num = row_num // num_samples_test\n",
    "    if classify(data, new_basis, projected_mean_vec, centroids) == all_words_arr[word_num]:\n",
    "        correct_counts[word_num - 1] += 1\n",
    "        \n",
    "for i in range(len(correct_counts)):\n",
    "    print(\"Percent correct of word {} = {}%\".format(all_words_arr[i], 100 * correct_counts[i] / num_samples_test))"
   ]
  },
  {
   "cell_type": "markdown",
   "id": "e20e2dd6-f0e4-4fbf-aeff-480bbe4d9691",
   "metadata": {},
   "source": [
    "<a id='part'></a>\n",
    "## <span style=\"color:navy\">Part 8: Testing the classifier -- Real Time</span>\n",
    "\n"
   ]
  },
  {
   "cell_type": "markdown",
   "id": "997a1b88-f3aa-4822-83e3-a581619c0c67",
   "metadata": {},
   "source": [
    "Now, we'll be testing the classifier in real time. Run the script below, and when prompted, say one of your chosen words. "
   ]
  },
  {
   "cell_type": "code",
   "execution_count": null,
   "id": "d04e777f-9af3-4b25-a21c-524fdd971c22",
   "metadata": {},
   "outputs": [],
   "source": [
    "# Define parameters\n",
    "sr = 5400  # Sample rate\n",
    "n_mels = 40  # Number of Mel bands\n",
    "n_fft = 256  # Length of the FFT window\n",
    "hop_length = n_fft/4 #Default hop length for STFT.\n",
    "\n",
    "def perform_mel_stft_rt(data):\n",
    "    f, t, Zxx = stft(data, fs=sr)\n",
    "    print(Zxx.shape)\n",
    "\n",
    "    mel_filter = mel_filter_bank(sr, n_fft, n_mels)\n",
    "    mel_stft_results_rt = np.array(apply_mel_filter_helper(Zxx, mel_filter))\n",
    "\n",
    "    # Convert the list to a numpy array\n",
    "    stft_results_rt = np.array(mel_stft_results_rt)\n",
    "    return stft_results_rt\n",
    "\n",
    "\n",
    "def process_stft_results_aggregate(stft_results_rt):\n",
    "    \n",
    "    print(stft_results_rt.shape)\n",
    "\n",
    "    # Compute mean and variance over frequency bins for each time frame\n",
    "    mean_features_rt = np.mean(stft_results_rt, axis=0)\n",
    "    variance_features_rt = np.var(stft_results_rt, axis=0)\n",
    "\n",
    "    # Stack features to get a combined feature set\n",
    "    aggregated_features_rt = np.concatenate((mean_features_rt, variance_features_rt), axis=0)\n",
    "    print(aggregated_features_rt.shape)\n",
    "    return aggregated_features_rt\n",
    "\n",
    "def process_stft_results_flatten(stft_results_rt):\n",
    "    stft_results_flattened = stft_results_rt.reshape(-1)\n",
    "    return stft_results_flattened\n",
    "    \n",
    "def perform_pca_svd_rt(data):\n",
    "    processed_A_test = np.vstack(aggregated_features_test)"
   ]
  },
  {
   "cell_type": "code",
   "execution_count": null,
   "id": "ac065837-3c4a-41ab-a0ff-b1e2502f044f",
   "metadata": {},
   "outputs": [],
   "source": [
    "rate = 5400  # Sample rate\n",
    "chunk = 1024  # Chunk size\n",
    "record_seconds = 3  # Record duration in seconds\n",
    "num_recordings = 50  # Total number of recordings needed\n",
    "recording_count = 0\n",
    "word = \"\"\n",
    "\n",
    "\n",
    "while True:\n",
    "    user_input = input(\"Press Enter to start recording, or type 'stop' and then Enter to stop recording: \")\n",
    "    \n",
    "    if user_input == '':\n",
    "        # Record audio\n",
    "\n",
    "        audio_data = utils.record_audio()\n",
    "        recording_threshold = threshold * np.max(audio_data)\n",
    "\n",
    "        # Figure out when interesting snippet starts\n",
    "        i = pre_length\n",
    "        while audio_data[i] < recording_threshold:\n",
    "            i += 1\n",
    "            \n",
    "        snippet_start = min(i - pre_length, len(audio_data) - length)\n",
    "        snippet = audio_data[snippet_start:snippet_start + length]\n",
    "\n",
    "        # Normalization\n",
    "        snippet = snippet / np.max(np.abs(snippet))\n",
    "        processed_audio_data = snippet\n",
    "        stft_results  = perform_mel_stft_rt(processed_audio_data) \n",
    "        processed_features = process_stft_results_aggregate(stft_results)\n",
    "\n",
    "        \n",
    "        #pca\n",
    "        projected_mean_vec = np.dot(mean_vec, new_basis)\n",
    "        #display.clear_output()\n",
    "        print(audio_data)\n",
    "        print(\"Classified Word: \" + classify(processed_features, new_basis, projected_mean_vec, centroids))\n",
    "       \n",
    "    if user_input == 'stop':\n",
    "        display.clear_output()\n",
    "        break"
   ]
  },
  {
   "cell_type": "markdown",
   "id": "ddc4c638-825e-451e-b688-0bda0f2da65e",
   "metadata": {},
   "source": [
    "## <span style=\"color:green\">CHECKOFF</span>\n",
    "\n",
    "### Checkoff Form (https://eecs16a.org/lab-checkoff)\n",
    "\n",
    "\n",
    "- **Have all questions, code, and plots completed in this notebook.** Your GSI will check all your PCA code and plots.\n",
    "- **Show your GSI that you've achieved 80% accuracy on your test data for all 4 words.** \n",
    "- **Show your GSI that you are able to classify live while running `classify.ino`.**\n",
    "- **Be prepared to answer conceptual questions about the lab.** Make sure you have read the lab note before requesting a checkoff! Many checkoff questions are pulled straight from the lab note."
   ]
  }
 ],
 "metadata": {
  "kernelspec": {
   "display_name": "Python 3 (ipykernel)",
   "language": "python",
   "name": "python3"
  },
  "language_info": {
   "codemirror_mode": {
    "name": "ipython",
    "version": 3
   },
   "file_extension": ".py",
   "mimetype": "text/x-python",
   "name": "python",
   "nbconvert_exporter": "python",
   "pygments_lexer": "ipython3",
   "version": "3.12.5"
  }
 },
 "nbformat": 4,
 "nbformat_minor": 5
}
